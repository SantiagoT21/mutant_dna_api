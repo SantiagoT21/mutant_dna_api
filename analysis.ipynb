{
  "nbformat": 4,
  "nbformat_minor": 0,
  "metadata": {
    "colab": {
      "provenance": []
    },
    "kernelspec": {
      "name": "python3",
      "display_name": "Python 3"
    },
    "language_info": {
      "name": "python"
    }
  },
  "cells": [
    {
      "cell_type": "markdown",
      "source": [
        "# Analisis del Reto"
      ],
      "metadata": {
        "id": "pzVu24gLz77c"
      }
    },
    {
      "cell_type": "markdown",
      "source": [
        "## Analisis de casos NxN:\n",
        "\n",
        "*   En el caso de las matrices 1x1, 2x2, 3x3 no se pueden generar las cadenas de 4 letras iguales, por ende se retorna false directamente\n",
        "\n",
        "\n",
        "*   Para los casos de matrices menores a 6x6 y validas, podemos generar un algoritmo mas eficiente al realizar menos comparaciones. Es importante aclarar que para estas matrices, es obligatorio que el par de elementos centrales de una fila o columna coincidan. De esta forma, se puede descartar rápidamente una fila o columna que no sea mutante con solo una comparación. En caso de que los elementos centrales coincidan, se procede a comparar con los elementos adyacentes para verificar si el ADN es mutante.\n",
        "\n",
        "\n",
        "*   Aunque esta condición también es válida para matrices de tamaño 4x4, en estos casos no se reduce la cantidad de comparaciones necesarias, por lo que se sigue empleando el algoritmo general para su análisis.\n",
        "\n",
        "*   Adicionalmente, en los ciclos de busqueda de las martrices mayores o iguales a 8x8, cuando ya se encontraron 2 secuencias que cumplan, detenemos la busqueda, para no ejecutar busquedas innecesarias. Adicionalmente tenemos cuidado en las comparaciones, dado que como el NxN no tiene delimitante, se pueden encontrar mas de una cadena en una fila o columna, pero sin repetir los caracteres de la cadena ya encontrada, por eso al encontrar una cadana, bloqueamos sus posiciones procurando que no se usen mas en el analisis, para no afectar la busqueda y genere falsos positivos"
      ],
      "metadata": {
        "id": "SsZ5vMq2uWGX"
      }
    },
    {
      "cell_type": "markdown",
      "source": [
        "# Codigo"
      ],
      "metadata": {
        "id": "uVpbvclY6m0b"
      }
    },
    {
      "cell_type": "code",
      "source": [
        "from typing import List\n",
        "\n",
        "class MutantDNA:\n",
        "  \"\"\"\n",
        "  This class determines if a given DNA sequence belongs to a mutant or not.\n",
        "  The sequence is represented as a list of strings, where each string is a row in a square table (N x N),\n",
        "  and we need to check if there is more than one sequence of four consecutive identical letters in any direction\n",
        "  (horizontal, vertical, diagonal).\n",
        "\n",
        "  Methods:\n",
        "  - is_mutant() -> bool: Determines if the DNA sequence corresponds to a mutant.\n",
        "  \"\"\"\n",
        "\n",
        "  def __init__(self, dna: List[str]):\n",
        "    \"\"\"\n",
        "    Initializes the MutantDNA instance with the DNA matrix and validates it.\n",
        "    :param dna: List of strings representing the DNA matrix.\n",
        "    \"\"\"\n",
        "    self.dna = [list(row) for row in dna]\n",
        "    self.size = len(dna)\n",
        "    self._validate_matrix()\n",
        "\n",
        "  def _validate_matrix(self):\n",
        "    \"\"\"\n",
        "    Validates the DNA matrix to ensure it is square.\n",
        "    :raises ValueError: If the matrix is not square.\n",
        "    \"\"\"\n",
        "    if any(len(row) != self.size for row in self.dna):\n",
        "        raise ValueError(\"All rows must have the same length.\")\n",
        "\n",
        "  def _count_sequences_in_line(self, line: List[str]) -> int:\n",
        "    \"\"\"\n",
        "    Checks if there are sequences of 4 identical consecutive letters in the line,\n",
        "    ensuring no overlapping sequences are counted. Once a sequence is found, the\n",
        "    characters are marked as used to prevent counting them again.\n",
        "\n",
        "    :param line: List of characters (row, column, or diagonal).\n",
        "    :return: The count of valid sequences found in the line.\n",
        "    \"\"\"\n",
        "    count = 0\n",
        "    used = [False] * len(line)\n",
        "\n",
        "    for i in range(len(line) - 3):\n",
        "      if used[i] or used[i+1] or used[i+2] or used[i+3]:\n",
        "        continue  # Skip if any of the characters in the current sequence are already used\n",
        "      if line[i] == line[i+1] == line[i+2] == line[i+3]:\n",
        "        count += 1\n",
        "        used[i:i+4] = [True] * 4  # Mark all four letters as used\n",
        "\n",
        "    return count\n",
        "\n",
        "  def _generate_conditions(self, pos: int, mid: int) -> tuple:\n",
        "    \"\"\"\n",
        "    Generates row and column conditions for checking sequences.\n",
        "\n",
        "    :param pos: Position in the row or column to check.\n",
        "    :param mid: Middle index of the matrix.\n",
        "    :return: Lists of conditions for the row and column.\n",
        "    \"\"\"\n",
        "    row_conditions, col_conditions = [], []\n",
        "    start_offsets = [-2, -1, 0] if self.size == 6 else [-1]\n",
        "\n",
        "    for offset in start_offsets:\n",
        "      # Generate a pattern of 4 elements from the current position with the given offset\n",
        "      row_pattern = [self.dna[pos][mid + offset + i] for i in range(4)]\n",
        "      col_pattern = [self.dna[mid + offset + i][pos] for i in range(4)]\n",
        "      row_conditions.append(row_pattern)\n",
        "      col_conditions.append(col_pattern)\n",
        "\n",
        "    return row_conditions, col_conditions\n",
        "\n",
        "  def _count_sequences_in_conditions(self, conditions: List[List[str]]) -> int:\n",
        "    \"\"\"\n",
        "    Counts sequences across multiple conditions.\n",
        "\n",
        "    :param conditions: List of row or column sequences to check.\n",
        "    :return: Count of valid sequences across all conditions.\n",
        "    \"\"\"\n",
        "    return sum(self._count_sequences_in_line(condition) for condition in conditions)\n",
        "\n",
        "  def _count_sequences_in_center(self, pos: int, mid: int) -> int:\n",
        "    \"\"\"\n",
        "    Checks the center conditions for the row and column at position `pos`.\n",
        "\n",
        "    :param pos: Position in the row or column to check.\n",
        "    :param mid: Middle index of the matrix.\n",
        "    :return: Count of matching patterns found (0 or 1).\n",
        "    \"\"\"\n",
        "    row_conditions, col_conditions = self._generate_conditions(pos, mid)\n",
        "\n",
        "    return self._count_sequences_in_conditions(row_conditions) + self._count_sequences_in_conditions(col_conditions)\n",
        "\n",
        "  def _has_sequence_in_diagonal(self, start_row: int, start_col: int, row_step: int, col_step: int) -> bool:\n",
        "    \"\"\"\n",
        "    Checks if there is a sequence of 4 identical elements in a specific diagonal.\n",
        "\n",
        "    :param start_row: Starting row index.\n",
        "    :param start_col: Starting column index.\n",
        "    :param row_step: Step to move in rows.\n",
        "    :param col_step: Step to move in columns.\n",
        "    :return: True if a diagonal sequence is found, else False.\n",
        "    \"\"\"\n",
        "    try:\n",
        "      return (\n",
        "        self.dna[start_row][start_col] ==\n",
        "        self.dna[start_row + row_step][start_col + col_step] ==\n",
        "        self.dna[start_row + 2 * row_step][start_col + 2 * col_step] ==\n",
        "        self.dna[start_row + 3 * row_step][start_col + 3 * col_step]\n",
        "      )\n",
        "    except IndexError:\n",
        "      return False\n",
        "\n",
        "  def _count_diagonals_with_sequences(self, start_row: int, end_row: int, start_col: int, end_col: int, row_step: int, col_step: int) -> int:\n",
        "    \"\"\"\n",
        "    Counts valid diagonal sequences in a specified section.\n",
        "\n",
        "    :param start_row: Starting row index.\n",
        "    :param end_row: Ending row index.\n",
        "    :param start_col: Starting column index.\n",
        "    :param end_col: Ending column index.\n",
        "    :param row_step: Step to move in rows.\n",
        "    :param col_step: Step to move in columns.\n",
        "    :return: Count of diagonal matches found.\n",
        "    \"\"\"\n",
        "    count = 0\n",
        "    for row in range(start_row, end_row):\n",
        "      for col in range(start_col, end_col):\n",
        "        if self._has_sequence_in_diagonal(row, col, row_step, col_step):\n",
        "          count += 1\n",
        "          if count == 2:\n",
        "            return count\n",
        "    return count\n",
        "\n",
        "  def _count_all_diagonal_sequences(self) -> int:\n",
        "    \"\"\"\n",
        "    Counts all diagonal sequences in both directions.\n",
        "\n",
        "    :return: Total count of diagonal matches.\n",
        "    \"\"\"\n",
        "    count  = 0\n",
        "    count  += self._count_diagonals_with_sequences(0, self.size - 3, 0, self.size - 3, 1, 1)  # \"Right-Down\" diagonals\n",
        "    count  += self._count_diagonals_with_sequences(3, self.size, 0, self.size - 3, -1, 1)  # \"Right-Up\" diagonals\n",
        "    return count\n",
        "\n",
        "  def _analyze_dna(self):\n",
        "    \"\"\"\n",
        "    Performs the general DNA analysis by checking horizontal, vertical, and diagonal sequences.\n",
        "\n",
        "    :return: True if at least 2 sequences of 4 identical letters are found, False otherwise.\n",
        "    \"\"\"\n",
        "    count = 0\n",
        "\n",
        "    for row in self.dna:\n",
        "      count += self._count_sequences_in_line(row)\n",
        "      if count >= 2:\n",
        "        return True\n",
        "\n",
        "    for col in range(self.size):\n",
        "      column_data = [self.dna[row][col] for row in range(self.size)]\n",
        "      count += self._count_sequences_in_line(column_data)\n",
        "      if count >= 2:\n",
        "        return True\n",
        "\n",
        "    count += self._count_all_diagonal_sequences()\n",
        "    return count >= 2\n",
        "\n",
        "  def is_mutant(self) -> bool:\n",
        "    \"\"\"\n",
        "    Determines if the given DNA sequence belongs to a mutant.\n",
        "\n",
        "    :return: True if the DNA sequence corresponds to a mutant, False otherwise.\n",
        "    \"\"\"\n",
        "\n",
        "    if self.size < 4:\n",
        "      return False\n",
        "    elif self.size in {5, 6}:\n",
        "      mid, count = (self.size - 1) // 2, 0\n",
        "      for pos in range(self.size):\n",
        "        count += self._count_sequences_in_center(pos, mid)\n",
        "        if count >= 2:\n",
        "          return True\n",
        "      count += self._count_all_diagonal_sequences()\n",
        "      return count >= 2\n",
        "    else:\n",
        "      return self._analyze_dna()"
      ],
      "metadata": {
        "id": "H_POzy4q6mEu"
      },
      "execution_count": 127,
      "outputs": []
    },
    {
      "cell_type": "markdown",
      "source": [
        "## Size 3"
      ],
      "metadata": {
        "id": "NGlrJfT1Dop0"
      }
    },
    {
      "cell_type": "code",
      "source": [
        "dna = [\n",
        "    \"ATG\",\n",
        "    \"CAG\",\n",
        "    \"TTC\"\n",
        "]\n",
        "analyzer = MutantDNA(dna)\n",
        "print(analyzer.is_mutant())  # False\n"
      ],
      "metadata": {
        "colab": {
          "base_uri": "https://localhost:8080/"
        },
        "outputId": "03330f82-35b4-4c71-bf64-bd882d12ce5b",
        "id": "ByVl7725Dop1"
      },
      "execution_count": 128,
      "outputs": [
        {
          "output_type": "stream",
          "name": "stdout",
          "text": [
            "False\n"
          ]
        }
      ]
    },
    {
      "cell_type": "markdown",
      "source": [
        "## Size 4"
      ],
      "metadata": {
        "id": "6JT_ZqfCDop2"
      }
    },
    {
      "cell_type": "code",
      "source": [
        "dna = [\n",
        "    \"ATGC\",\n",
        "    \"CAGT\",\n",
        "    \"TTAT\",\n",
        "    \"AGAG\"\n",
        "]\n",
        "analyzer = MutantDNA(dna)\n",
        "print(analyzer.is_mutant()) # False"
      ],
      "metadata": {
        "colab": {
          "base_uri": "https://localhost:8080/"
        },
        "outputId": "63a369b4-afb9-45d2-d9fd-fc3009ca80c0",
        "id": "J80HURz9Dop3"
      },
      "execution_count": 129,
      "outputs": [
        {
          "output_type": "stream",
          "name": "stdout",
          "text": [
            "False\n"
          ]
        }
      ]
    },
    {
      "cell_type": "code",
      "source": [
        "dna = [\n",
        "    \"ATGC\",\n",
        "    \"CAGT\",\n",
        "    \"TTAA\",\n",
        "    \"AAAA\"\n",
        "]\n",
        "analyzer = MutantDNA(dna)\n",
        "print(analyzer.is_mutant())  # True"
      ],
      "metadata": {
        "colab": {
          "base_uri": "https://localhost:8080/"
        },
        "outputId": "7c71d9fc-699c-4df9-fb92-1c0655d6aa6e",
        "id": "zEZpMWWbDop3"
      },
      "execution_count": 130,
      "outputs": [
        {
          "output_type": "stream",
          "name": "stdout",
          "text": [
            "True\n"
          ]
        }
      ]
    },
    {
      "cell_type": "markdown",
      "source": [
        "# Size 5"
      ],
      "metadata": {
        "id": "DXr90Vo8DoqN"
      }
    },
    {
      "cell_type": "code",
      "source": [
        "dna = [\n",
        "    \"ATGCG\",\n",
        "    \"CAGTT\",\n",
        "    \"TTAAT\",\n",
        "    \"AGGAT\",\n",
        "    \"CCCCT\"\n",
        "]\n",
        "analyzer = MutantDNA(dna)\n",
        "print(analyzer.is_mutant())  # True"
      ],
      "metadata": {
        "colab": {
          "base_uri": "https://localhost:8080/"
        },
        "outputId": "d9515633-782c-4a6e-a31e-875ebb990aa4",
        "id": "pB6KzttKDoqN"
      },
      "execution_count": 131,
      "outputs": [
        {
          "output_type": "stream",
          "name": "stdout",
          "text": [
            "True\n"
          ]
        }
      ]
    },
    {
      "cell_type": "code",
      "source": [
        "dna = [\n",
        "    \"ATGCG\",\n",
        "    \"CAGTT\",\n",
        "    \"TTATA\",\n",
        "    \"AGTGG\",\n",
        "    \"CCTCA\"\n",
        "]\n",
        "analyzer = MutantDNA(dna)\n",
        "print(analyzer.is_mutant())  # False"
      ],
      "metadata": {
        "colab": {
          "base_uri": "https://localhost:8080/"
        },
        "outputId": "d09b17f0-1f3a-44cc-ec26-f702ced42fab",
        "id": "Mc0LBFfJDoqN"
      },
      "execution_count": 132,
      "outputs": [
        {
          "output_type": "stream",
          "name": "stdout",
          "text": [
            "False\n"
          ]
        }
      ]
    },
    {
      "cell_type": "markdown",
      "source": [
        "# Size 6"
      ],
      "metadata": {
        "id": "gZWJu9sjDoqN"
      }
    },
    {
      "cell_type": "code",
      "source": [
        "dna = [\n",
        "    \"ATGCGA\",\n",
        "    \"CAGTGC\",\n",
        "    \"TTATGT\",\n",
        "    \"AGAAGG\",\n",
        "    \"CCCCTA\",\n",
        "    \"TCACTG\"\n",
        "]\n",
        "analyzer = MutantDNA(dna)\n",
        "print(analyzer.is_mutant())  # True"
      ],
      "metadata": {
        "colab": {
          "base_uri": "https://localhost:8080/"
        },
        "outputId": "98563e01-29a4-49ea-9e12-58e64b7b56d0",
        "id": "naqA84H8DoqN"
      },
      "execution_count": 133,
      "outputs": [
        {
          "output_type": "stream",
          "name": "stdout",
          "text": [
            "True\n"
          ]
        }
      ]
    },
    {
      "cell_type": "code",
      "source": [
        "dna = [\n",
        "    \"ATGCGA\",\n",
        "    \"CAGTGC\",\n",
        "    \"TTATGT\",\n",
        "    \"AGAGGA\",\n",
        "    \"CCCTAA\",\n",
        "    \"TCACTG\"\n",
        "]\n",
        "analyzer = MutantDNA(dna)\n",
        "print(analyzer.is_mutant())  # False"
      ],
      "metadata": {
        "colab": {
          "base_uri": "https://localhost:8080/"
        },
        "outputId": "39fde7d2-be90-44a5-ee04-19de30ab6904",
        "id": "voPnsrZ5DoqN"
      },
      "execution_count": 134,
      "outputs": [
        {
          "output_type": "stream",
          "name": "stdout",
          "text": [
            "False\n"
          ]
        }
      ]
    },
    {
      "cell_type": "code",
      "source": [
        "dna = [\n",
        "    \"ATGCGT\",\n",
        "    \"CAGTGC\",\n",
        "    \"TTATGT\",\n",
        "    \"AGAAGG\",\n",
        "    \"CCCTAG\",\n",
        "    \"TCACTG\"\n",
        "]\n",
        "analyzer = MutantDNA(dna)\n",
        "print(analyzer.is_mutant())  # True"
      ],
      "metadata": {
        "colab": {
          "base_uri": "https://localhost:8080/"
        },
        "outputId": "4ad1bff2-3a00-4cc3-d6bf-3e7bdade8e3d",
        "id": "htMaBqyoDoqO"
      },
      "execution_count": 135,
      "outputs": [
        {
          "output_type": "stream",
          "name": "stdout",
          "text": [
            "True\n"
          ]
        }
      ]
    },
    {
      "cell_type": "markdown",
      "source": [
        "# Size 7"
      ],
      "metadata": {
        "id": "pA5AooezDoqO"
      }
    },
    {
      "cell_type": "code",
      "source": [
        "dna = [\n",
        "    \"ATGCGAT\",\n",
        "    \"CAGTGCT\",\n",
        "    \"TTATGTT\",\n",
        "    \"AGAGGAG\",\n",
        "    \"CGCTCGA\",\n",
        "    \"TCACTGA\",\n",
        "    \"ATGCGCT\"\n",
        "]\n",
        "analyzer = MutantDNA(dna)\n",
        "print(analyzer.is_mutant())  # False"
      ],
      "metadata": {
        "colab": {
          "base_uri": "https://localhost:8080/"
        },
        "outputId": "f1a60b04-96c6-452f-96a1-24ff235be717",
        "id": "l5QYflydDoqO"
      },
      "execution_count": 136,
      "outputs": [
        {
          "output_type": "stream",
          "name": "stdout",
          "text": [
            "False\n"
          ]
        }
      ]
    },
    {
      "cell_type": "markdown",
      "source": [
        "# SIZE 10"
      ],
      "metadata": {
        "id": "Az8a5UYLDoqO"
      }
    },
    {
      "cell_type": "code",
      "source": [
        "dna = [\n",
        "    \"ATGCATGCAT\",\n",
        "    \"CAGTCAGTCA\",\n",
        "    \"TTATTTATTA\",\n",
        "    \"AGAGAGAGAG\",\n",
        "    \"CGCTCGCTCG\",\n",
        "    \"TCACTCACTG\",\n",
        "    \"ATGCATGCAT\",\n",
        "    \"CAGTCAGTCA\",\n",
        "    \"TTATTTATTA\",\n",
        "    \"AGAGAGAGAG\"\n",
        "]\n",
        "analyzer = MutantDNA(dna)\n",
        "print(analyzer.is_mutant())  # False\n"
      ],
      "metadata": {
        "colab": {
          "base_uri": "https://localhost:8080/"
        },
        "outputId": "8f798d9f-b09b-4c9e-fb56-a1e465eee04c",
        "id": "SCcDRrZrDoqO"
      },
      "execution_count": 137,
      "outputs": [
        {
          "output_type": "stream",
          "name": "stdout",
          "text": [
            "False\n"
          ]
        }
      ]
    },
    {
      "cell_type": "code",
      "source": [
        "dna = [\n",
        "    \"ATGCATGCAT\",\n",
        "    \"CAGTCAGTCA\",\n",
        "    \"TTTTTTATTA\",\n",
        "    \"AGAGAGAGAG\",\n",
        "    \"CGCTCGCTCG\",\n",
        "    \"TCACTCACTG\",\n",
        "    \"ATGCATGCAT\",\n",
        "    \"CAGTCAGTCA\",\n",
        "    \"TTATTTATTA\",\n",
        "    \"AGAGAGAGAG\"\n",
        "]\n",
        "analyzer = MutantDNA(dna)\n",
        "print(analyzer.is_mutant())  # False"
      ],
      "metadata": {
        "colab": {
          "base_uri": "https://localhost:8080/"
        },
        "id": "aemMl3sJF_-R",
        "outputId": "ffd46551-eaf7-46f2-98b7-4d46e10f781b"
      },
      "execution_count": 138,
      "outputs": [
        {
          "output_type": "stream",
          "name": "stdout",
          "text": [
            "False\n"
          ]
        }
      ]
    },
    {
      "cell_type": "code",
      "source": [
        "dna = [\n",
        "    \"ATGCATGCAT\",\n",
        "    \"CAGTCAGTCA\",\n",
        "    \"TTATTTATTA\",\n",
        "    \"AGAGGGGGAG\",\n",
        "    \"CGCTCGCTCG\",\n",
        "    \"TCACTCACTG\",\n",
        "    \"ATGCATGCAT\",\n",
        "    \"CAGTCAGTCA\",\n",
        "    \"TTTTTTATTA\",\n",
        "    \"AGAGAGAGAG\"\n",
        "]\n",
        "analyzer = MutantDNA(dna)\n",
        "print(analyzer.is_mutant())  # True"
      ],
      "metadata": {
        "colab": {
          "base_uri": "https://localhost:8080/"
        },
        "outputId": "dff2fee6-aa47-4834-9311-cbb48ffe6621",
        "id": "hhNtbgeqDoqO"
      },
      "execution_count": 139,
      "outputs": [
        {
          "output_type": "stream",
          "name": "stdout",
          "text": [
            "True\n"
          ]
        }
      ]
    }
  ]
}